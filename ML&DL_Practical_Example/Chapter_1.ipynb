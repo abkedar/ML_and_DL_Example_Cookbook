{
  "nbformat": 4,
  "nbformat_minor": 0,
  "metadata": {
    "colab": {
      "name": "Chapter_1 : Vectors, Matrices, and Arrays.ipynb",
      "provenance": []
    },
    "kernelspec": {
      "name": "python3",
      "display_name": "Python 3"
    }
  },
  "cells": [
    {
      "cell_type": "markdown",
      "metadata": {
        "id": "P3Dg3rt8CWou",
        "colab_type": "text"
      },
      "source": [
        "# 1.1 Creating a Vector\n",
        "## Problem\n",
        "\n",
        "\n",
        "*   You need to create a vector\n"
      ]
    },
    {
      "cell_type": "code",
      "metadata": {
        "id": "2WMN2AQ3Wy9-",
        "colab_type": "code",
        "colab": {
          "base_uri": "https://localhost:8080/",
          "height": 67
        },
        "outputId": "7640da37-6e52-4a59-8551-b3deb68ae87b"
      },
      "source": [
        "# Solution : Use NumPy to create a one-dimensional array:\n",
        "\n",
        "# Load library\n",
        "import numpy as np\n",
        "\n",
        "# Create a vector as a row\n",
        "vector_row = np.array([1, 2, 3])\n",
        "\n",
        "# Create a vector as a column\n",
        "vector_column = np.array([[1],\n",
        "[2],\n",
        "[3]])\n",
        "\n",
        "print(vector_column)"
      ],
      "execution_count": 1,
      "outputs": [
        {
          "output_type": "stream",
          "text": [
            "[[1]\n",
            " [2]\n",
            " [3]]\n"
          ],
          "name": "stdout"
        }
      ]
    },
    {
      "cell_type": "markdown",
      "metadata": {
        "id": "ECz_iPYRDCkr",
        "colab_type": "text"
      },
      "source": [
        "# Creating a Matrix\n",
        "## Problem\n",
        "*  You need to create a matrix."
      ]
    },
    {
      "cell_type": "code",
      "metadata": {
        "id": "JD1vN-iLCzho",
        "colab_type": "code",
        "colab": {
          "base_uri": "https://localhost:8080/",
          "height": 67
        },
        "outputId": "efe67484-50a6-44bd-f719-e646db7929e7"
      },
      "source": [
        "# Solution : Use NumPy to create a two-dimensional array\n",
        "\n",
        "# Create a matrix\n",
        "matrix = np.array([[1, 2],\n",
        "[1, 2],\n",
        "[1, 2]])\n",
        "print(matrix)"
      ],
      "execution_count": 3,
      "outputs": [
        {
          "output_type": "stream",
          "text": [
            "[[1 2]\n",
            " [1 2]\n",
            " [1 2]]\n"
          ],
          "name": "stdout"
        }
      ]
    },
    {
      "cell_type": "markdown",
      "metadata": {
        "id": "H7kE2mqnIcSn",
        "colab_type": "text"
      },
      "source": [
        "# Creating a Sparse Matrix\n",
        "## Problem\n",
        "*  Given data with very few nonzero values, you want to efficiently represent it.\n",
        "*  Use scipy.sparse library\n",
        "* See below link for more info:\n",
        "*  [Sparse matrices, SciPy documentation](https://docs.scipy.org/doc/scipy/reference/sparse.html)\n",
        "*  [101 Ways to Store a Sparse Matrix](https://https://medium.com/@jmaxg3/101-ways-to-store-a-sparse-matrix-c7f2bf15a229)  "
      ]
    },
    {
      "cell_type": "code",
      "metadata": {
        "id": "4BhuWZ7uDcKQ",
        "colab_type": "code",
        "colab": {
          "base_uri": "https://localhost:8080/",
          "height": 50
        },
        "outputId": "a213c9cc-f501-4859-c205-8364696289b6"
      },
      "source": [
        "#  Solution\n",
        "#  Create a sparse matrix:\n",
        "from scipy import sparse\n",
        "\n",
        "# Create a matrix\n",
        "matrix = np.array([[0, 0],\n",
        "[0, 1],\n",
        "[3, 0]])\n",
        "\n",
        "# Create compressed sparse row (CSR) matrix\n",
        "matrix_sparse = sparse.csr_matrix(matrix)\n",
        "\n",
        "print(matrix_sparse)"
      ],
      "execution_count": 5,
      "outputs": [
        {
          "output_type": "stream",
          "text": [
            "  (1, 1)\t1\n",
            "  (2, 0)\t3\n"
          ],
          "name": "stdout"
        }
      ]
    },
    {
      "cell_type": "code",
      "metadata": {
        "id": "hM2ak3pDI_lk",
        "colab_type": "code",
        "colab": {
          "base_uri": "https://localhost:8080/",
          "height": 84
        },
        "outputId": "5e5d8402-92eb-4c6d-ea1d-40a13b1a299c"
      },
      "source": [
        "#Create larger matrix\n",
        "matrix_large = np.array([[0, 0, 0, 0, 0, 0, 0, 0, 0, 0],\n",
        "[0, 1, 0, 0, 0, 0, 0, 0, 0, 0],\n",
        "[3, 0, 0, 0, 0, 0, 0, 0, 0, 0]])\n",
        "\n",
        "# Create compressed sparse row (CSR) matrix\n",
        "matrix_large_sparse = sparse.csr_matrix(matrix_large)\n",
        "\n",
        "# View original sparse matrix\n",
        "print(matrix_sparse)\n",
        "# (1, 1) 1\n",
        "# (2, 0) 3\n",
        "\n",
        "# View larger sparse matrix\n",
        "print(matrix_large_sparse)"
      ],
      "execution_count": 7,
      "outputs": [
        {
          "output_type": "stream",
          "text": [
            "  (1, 1)\t1\n",
            "  (2, 0)\t3\n",
            "  (1, 1)\t1\n",
            "  (2, 0)\t3\n"
          ],
          "name": "stdout"
        }
      ]
    },
    {
      "cell_type": "markdown",
      "metadata": {
        "id": "W_QG3CKoOu5z",
        "colab_type": "text"
      },
      "source": [
        "# Selecting Elements\n",
        "## Problem\n",
        "\n",
        "*   You need to select one or more elements in a vector or matrix.\n"
      ]
    },
    {
      "cell_type": "code",
      "metadata": {
        "id": "pO0_hZu5M16Q",
        "colab_type": "code",
        "colab": {
          "base_uri": "https://localhost:8080/",
          "height": 50
        },
        "outputId": "529d52c0-4599-4510-fddf-45c457e564d3"
      },
      "source": [
        "#Solution\n",
        "#NumPy’s arrays make that easy:\n",
        "\n",
        "# Load library\n",
        "import numpy as np\n",
        "\n",
        "# Create row vector\n",
        "vector = np.array([1, 2, 3, 4, 5, 6])\n",
        "\n",
        "# Create matrix\n",
        "matrix = np.array([[1, 2, 3],\n",
        "[4, 5, 6],\n",
        "[7, 8, 9]])\n",
        "\n",
        "# Select third element of vector\n",
        "print(vector[2])\n",
        "#3\n",
        "\n",
        "# Select second row, second column\n",
        "print(matrix[1,1])\n",
        "#5"
      ],
      "execution_count": 21,
      "outputs": [
        {
          "output_type": "stream",
          "text": [
            "3\n",
            "5\n"
          ],
          "name": "stdout"
        }
      ]
    },
    {
      "cell_type": "code",
      "metadata": {
        "id": "bf1JEdCePF62",
        "colab_type": "code",
        "colab": {
          "base_uri": "https://localhost:8080/",
          "height": 168
        },
        "outputId": "71512efd-f1ec-4554-ee77-27e1e498780c"
      },
      "source": [
        "#Select all elements of a vector\n",
        "print(vector[:])\n",
        "#array([1, 2, 3, 4, 5, 6])\n",
        "\n",
        "# Select everything up to and including the third element\n",
        "print(vector[:3])\n",
        "# array([1, 2, 3])\n",
        "\n",
        "# Select everything after the third element\n",
        "print(vector[3:])\n",
        "# array([4, 5, 6])\n",
        "\n",
        "# Select the last element\n",
        "print(vector[-1])\n",
        "# 6\n",
        "\n",
        "# Select the first two rows and all columns of a matrix\n",
        "print(matrix[:2,:])\n",
        "#array([[1, 2, 3],\n",
        "#       [4, 5, 6]])\n",
        "\n",
        "# Select all rows and the second column\n",
        "print(matrix[:,1:2])\n",
        "#array([[2],\n",
        "#       [5],\n",
        "#       [8]]"
      ],
      "execution_count": 27,
      "outputs": [
        {
          "output_type": "stream",
          "text": [
            "[1 2 3 4 5 6]\n",
            "[1 2 3]\n",
            "[4 5 6]\n",
            "6\n",
            "[[1 2 3]\n",
            " [4 5 6]]\n",
            "[[2]\n",
            " [5]\n",
            " [8]]\n"
          ],
          "name": "stdout"
        }
      ]
    },
    {
      "cell_type": "markdown",
      "metadata": {
        "id": "TldKoSUmUHuZ",
        "colab_type": "text"
      },
      "source": [
        "# Describing a Matrix\n",
        "## Problem\n",
        "*  You want to describe the shape, size, and dimensions of the matrix."
      ]
    },
    {
      "cell_type": "code",
      "metadata": {
        "id": "sEdt7Wt8QT-u",
        "colab_type": "code",
        "colab": {
          "base_uri": "https://localhost:8080/",
          "height": 67
        },
        "outputId": "68c5bcb9-553d-43be-a45d-1aa90461637b"
      },
      "source": [
        "# Solution\n",
        "# Use shape, size, and ndim:\n",
        "# Load library\n",
        "import numpy as np\n",
        "\n",
        "# Create matrix\n",
        "matrix = np.array([[1, 2, 3, 4],\n",
        "[5, 6, 7, 8],\n",
        "[9, 10, 11, 12]])\n",
        "\n",
        "# View number of rows and columns\n",
        "print(matrix.shape)\n",
        "#(3, 4)\n",
        "\n",
        "# View number of elements (rows * columns)\n",
        "print(matrix.size)\n",
        "#12\n",
        "\n",
        "# View number of dimensions\n",
        "print(matrix.ndim)"
      ],
      "execution_count": 29,
      "outputs": [
        {
          "output_type": "stream",
          "text": [
            "(3, 4)\n",
            "12\n",
            "2\n"
          ],
          "name": "stdout"
        }
      ]
    },
    {
      "cell_type": "markdown",
      "metadata": {
        "id": "UnYbYwMVVA-_",
        "colab_type": "text"
      },
      "source": [
        "# Applying Operations to Elements\n",
        "## Problem\n",
        "*  You want to apply some function to multiple elements in an array."
      ]
    },
    {
      "cell_type": "code",
      "metadata": {
        "id": "dsVFjGp4UmnU",
        "colab_type": "code",
        "colab": {
          "base_uri": "https://localhost:8080/",
          "height": 67
        },
        "outputId": "80e4dd9b-3539-4a32-a783-e5f7b90b607a"
      },
      "source": [
        "#Solution\n",
        "#Use NumPy’s vectorize:\n",
        "\n",
        "# Load library\n",
        "import numpy as np\n",
        "\n",
        "# Create matrix\n",
        "matrix = np.array([[1, 2, 3],\n",
        "[4, 5, 6],\n",
        "[7, 8, 9]])\n",
        "\n",
        "# Create function that adds 100 to something\n",
        "add_100 = lambda i: i + 100\n",
        "\n",
        "# Create vectorized function\n",
        "vectorized_add_100 = np.vectorize(add_100)\n",
        "\n",
        "# Apply function to all elements in matrix\n",
        "vectorized_add_100(matrix)"
      ],
      "execution_count": 30,
      "outputs": [
        {
          "output_type": "execute_result",
          "data": {
            "text/plain": [
              "array([[101, 102, 103],\n",
              "       [104, 105, 106],\n",
              "       [107, 108, 109]])"
            ]
          },
          "metadata": {
            "tags": []
          },
          "execution_count": 30
        }
      ]
    },
    {
      "cell_type": "code",
      "metadata": {
        "id": "TDm-PBdzVSGz",
        "colab_type": "code",
        "colab": {
          "base_uri": "https://localhost:8080/",
          "height": 67
        },
        "outputId": "dc0e92e6-dc21-4fb7-bfea-2874f123579a"
      },
      "source": [
        "# Add 100 to all elements\n",
        "matrix + 100\n",
        "\n",
        "#array([[101, 102, 103],\n",
        "#[104, 105, 106],\n",
        "#[107, 108, 109]])"
      ],
      "execution_count": 31,
      "outputs": [
        {
          "output_type": "execute_result",
          "data": {
            "text/plain": [
              "array([[101, 102, 103],\n",
              "       [104, 105, 106],\n",
              "       [107, 108, 109]])"
            ]
          },
          "metadata": {
            "tags": []
          },
          "execution_count": 31
        }
      ]
    },
    {
      "cell_type": "markdown",
      "metadata": {
        "id": "qJffLBYbV7j7",
        "colab_type": "text"
      },
      "source": [
        "# Finding the Maximum and Minimum Values\n",
        "## Problem\n",
        "*  You need to find the maximum or minimum value in an array."
      ]
    },
    {
      "cell_type": "code",
      "metadata": {
        "id": "B97ndAh3Vr3R",
        "colab_type": "code",
        "colab": {
          "base_uri": "https://localhost:8080/",
          "height": 50
        },
        "outputId": "751159ba-a6d7-429b-aee3-8738a3d09428"
      },
      "source": [
        "#Solution\n",
        "#Use NumPy’s max and min:\n",
        "\n",
        "# Load library\n",
        "import numpy as np\n",
        "\n",
        "# Create matrix\n",
        "matrix = np.array([[1, 2, 3],\n",
        "[4, 5, 6],\n",
        "[7, 8, 9]])\n",
        "\n",
        "# Return maximum element\n",
        "print(np.max(matrix))\n",
        "#9\n",
        "\n",
        "# Return minimum element\n",
        "print(np.min(matrix))"
      ],
      "execution_count": 33,
      "outputs": [
        {
          "output_type": "stream",
          "text": [
            "9\n",
            "1\n"
          ],
          "name": "stdout"
        }
      ]
    },
    {
      "cell_type": "markdown",
      "metadata": {
        "id": "DWXK8bcYWh1S",
        "colab_type": "text"
      },
      "source": [
        "# Calculating the Average, Variance, and Standard Deviation\n",
        "## Problem\n",
        "*  You want to calculate some descriptive statistics about an array."
      ]
    },
    {
      "cell_type": "code",
      "metadata": {
        "id": "U7d_jbxcWMiL",
        "colab_type": "code",
        "colab": {
          "base_uri": "https://localhost:8080/",
          "height": 67
        },
        "outputId": "fc5fd755-a6f1-46dd-ffec-100d5abb2785"
      },
      "source": [
        "# Solution\n",
        "# Use NumPy’s mean, var, and std:\n",
        "\n",
        "# Load library\n",
        "import numpy as np\n",
        "\n",
        "# Create matrix\n",
        "matrix = np.array([[1, 2, 3],\n",
        "[4, 5, 6],\n",
        "[7, 8, 9]])\n",
        "\n",
        "# Return mean\n",
        "print(np.mean(matrix))\n",
        "#5.0\n",
        "\n",
        "# Return variance\n",
        "print(np.var(matrix))\n",
        "#6.666666666666667\n",
        "\n",
        "# Return standard deviation\n",
        "print(np.std(matrix))\n",
        "#2.5819888974716112"
      ],
      "execution_count": 35,
      "outputs": [
        {
          "output_type": "stream",
          "text": [
            "5.0\n",
            "6.666666666666667\n",
            "2.581988897471611\n"
          ],
          "name": "stdout"
        }
      ]
    },
    {
      "cell_type": "markdown",
      "metadata": {
        "id": "NstoMSBIZgRw",
        "colab_type": "text"
      },
      "source": [
        "# Reshaping Arrays\n",
        "## Problem\n",
        "*  You want to change the shape (number of rows and columns) of an array without\n",
        "changing the element values."
      ]
    },
    {
      "cell_type": "code",
      "metadata": {
        "id": "NNBpWj3OWffq",
        "colab_type": "code",
        "colab": {
          "base_uri": "https://localhost:8080/",
          "height": 50
        },
        "outputId": "3de99d39-a2c2-41b7-a2fd-74cee91e7d71"
      },
      "source": [
        "# Solution\n",
        "# Use NumPy’s reshape:\n",
        "\n",
        "# Load library\n",
        "import numpy as np\n",
        "\n",
        "# Create 4x3 matrix\n",
        "matrix = np.array([[1, 2, 3],\n",
        "[4, 5, 6],\n",
        "[7, 8, 9],\n",
        "[10, 11, 12]])\n",
        "\n",
        "# Reshape matrix into 2x6 matrix\n",
        "matrix.reshape(2, 6)\n",
        "#array([[ 1, 2, 3, 4, 5, 6],\n",
        "#[ 7, 8, 9, 10, 11, 12]])\n",
        "#1.9"
      ],
      "execution_count": 37,
      "outputs": [
        {
          "output_type": "execute_result",
          "data": {
            "text/plain": [
              "array([[ 1,  2,  3,  4,  5,  6],\n",
              "       [ 7,  8,  9, 10, 11, 12]])"
            ]
          },
          "metadata": {
            "tags": []
          },
          "execution_count": 37
        }
      ]
    },
    {
      "cell_type": "markdown",
      "metadata": {
        "id": "jQkkmEsjZ6W2",
        "colab_type": "text"
      },
      "source": [
        "# Transposing a Vector or Matrix\n",
        "## Problem\n",
        "*  You need to transpose a vector or matrix."
      ]
    },
    {
      "cell_type": "code",
      "metadata": {
        "id": "12wpvRQnZueO",
        "colab_type": "code",
        "colab": {
          "base_uri": "https://localhost:8080/",
          "height": 67
        },
        "outputId": "c069e93a-4ce8-4b52-fac0-0d5bc37739a1"
      },
      "source": [
        "# Solution\n",
        "# Use the T method:\n",
        "\n",
        "# Load library\n",
        "import numpy as np\n",
        "\n",
        "# Create matrix\n",
        "matrix = np.array([[1, 2, 3],\n",
        "[4, 5, 6],\n",
        "[7, 8, 9]])\n",
        "\n",
        "# Transpose matrix\n",
        "matrix.T"
      ],
      "execution_count": 38,
      "outputs": [
        {
          "output_type": "execute_result",
          "data": {
            "text/plain": [
              "array([[1, 4, 7],\n",
              "       [2, 5, 8],\n",
              "       [3, 6, 9]])"
            ]
          },
          "metadata": {
            "tags": []
          },
          "execution_count": 38
        }
      ]
    },
    {
      "cell_type": "markdown",
      "metadata": {
        "id": "tA8z1dk-aciw",
        "colab_type": "text"
      },
      "source": [
        "# Flattening a Matrix\n",
        "## Problem\n",
        "*  You need to transform a matrix into a one-dimensional array."
      ]
    },
    {
      "cell_type": "code",
      "metadata": {
        "id": "ga7yuy1daHYi",
        "colab_type": "code",
        "colab": {
          "base_uri": "https://localhost:8080/",
          "height": 34
        },
        "outputId": "fc0caa0f-6ebb-47ce-e700-7a52e1e32f6c"
      },
      "source": [
        "# Solution\n",
        "# Use flatten:\n",
        "\n",
        "# Load library\n",
        "import numpy as np\n",
        "\n",
        "# Create matrix\n",
        "matrix = np.array([[1, 2, 3],\n",
        "[4, 5, 6],\n",
        "[7, 8, 9]])\n",
        "\n",
        "# Flatten matrix\n",
        "matrix.flatten()"
      ],
      "execution_count": 39,
      "outputs": [
        {
          "output_type": "execute_result",
          "data": {
            "text/plain": [
              "array([1, 2, 3, 4, 5, 6, 7, 8, 9])"
            ]
          },
          "metadata": {
            "tags": []
          },
          "execution_count": 39
        }
      ]
    },
    {
      "cell_type": "markdown",
      "metadata": {
        "id": "8rHUONVAa3Y0",
        "colab_type": "text"
      },
      "source": [
        "# Finding the Rank of a Matrix\n",
        "## Problem\n",
        "*  You need to know the rank of a matrix.\n",
        "*  [The Rank of a Matrix, CliffsNotes](https://https://www.cliffsnotes.com/study-guides/algebra/linear-algebra/real-euclidean-vector-spaces/the-rank-of-a-matrix)"
      ]
    },
    {
      "cell_type": "code",
      "metadata": {
        "id": "kh0E4tK1avbs",
        "colab_type": "code",
        "colab": {
          "base_uri": "https://localhost:8080/",
          "height": 34
        },
        "outputId": "7b2a8d9e-c18a-44fe-d718-44570997aac6"
      },
      "source": [
        "# Solution\n",
        "# Use NumPy’s linear algebra method matrix_rank:\n",
        "\n",
        "# Load library\n",
        "import numpy as np\n",
        "\n",
        "# Create matrix\n",
        "matrix = np.array([[1, 1, 1],\n",
        "[1, 1, 10],\n",
        "[1, 1, 15]])\n",
        "\n",
        "# Return matrix rank\n",
        "np.linalg.matrix_rank(matrix)"
      ],
      "execution_count": 40,
      "outputs": [
        {
          "output_type": "execute_result",
          "data": {
            "text/plain": [
              "2"
            ]
          },
          "metadata": {
            "tags": []
          },
          "execution_count": 40
        }
      ]
    },
    {
      "cell_type": "markdown",
      "metadata": {
        "id": "CDr8AKoabKn7",
        "colab_type": "text"
      },
      "source": [
        "# Calculating the Determinant\n",
        "## Problem\n",
        "*  You need to know the determinant of a matrix.\n",
        "*  [The determinant | Essence of linear algebra, chapter 5, 3Blue1Brown](https://https://www.youtube.com/watch?v=Ip3X9LOh2dk)\n",
        "*  [Determinant, Wolfram MathWorld](https://https://mathworld.wolfram.com/Determinant.html)"
      ]
    },
    {
      "cell_type": "code",
      "metadata": {
        "id": "SviamSTibFrr",
        "colab_type": "code",
        "colab": {
          "base_uri": "https://localhost:8080/",
          "height": 34
        },
        "outputId": "b63ee751-2e07-49bd-dcc6-a8dc028622c5"
      },
      "source": [
        "# Solution\n",
        "# Use NumPy’s linear algebra method det:\n",
        "\n",
        "# Load library\n",
        "import numpy as np\n",
        "\n",
        "# Create matrix\n",
        "matrix = np.array([[1, 2, 3],\n",
        "[2, 4, 6],\n",
        "[3, 8, 9]])\n",
        "\n",
        "# Return determinant of matrix\n",
        "np.linalg.det(matrix)"
      ],
      "execution_count": 41,
      "outputs": [
        {
          "output_type": "execute_result",
          "data": {
            "text/plain": [
              "0.0"
            ]
          },
          "metadata": {
            "tags": []
          },
          "execution_count": 41
        }
      ]
    },
    {
      "cell_type": "markdown",
      "metadata": {
        "id": "ZlEvfTSoblX4",
        "colab_type": "text"
      },
      "source": [
        "# Getting the Diagonal of a Matrix\n",
        "## Problem\n",
        "*  You need to get the diagonal elements of a matrix."
      ]
    },
    {
      "cell_type": "code",
      "metadata": {
        "id": "jYk1TSghbX8B",
        "colab_type": "code",
        "colab": {
          "base_uri": "https://localhost:8080/",
          "height": 34
        },
        "outputId": "b5343a8c-a472-464c-9e49-0b2005ff8bae"
      },
      "source": [
        "#Solution\n",
        "#Use diagonal:\n",
        "\n",
        "# Load library\n",
        "import numpy as np\n",
        "\n",
        "# Create matrix\n",
        "matrix = np.array([[1, 2, 3],\n",
        "[2, 4, 6],\n",
        "[3, 8, 9]])\n",
        "\n",
        "# Return diagonal elements\n",
        "matrix.diagonal()"
      ],
      "execution_count": 42,
      "outputs": [
        {
          "output_type": "execute_result",
          "data": {
            "text/plain": [
              "array([1, 4, 9])"
            ]
          },
          "metadata": {
            "tags": []
          },
          "execution_count": 42
        }
      ]
    },
    {
      "cell_type": "markdown",
      "metadata": {
        "id": "YubRZQJEb-ZV",
        "colab_type": "text"
      },
      "source": [
        "# Calculating the Trace of a Matrix\n",
        "## Problem\n",
        "*  You need to calculate the trace of a matrix.\n",
        "*  [The Trace of a Square Matrix](http://mathonline.wikidot.com/the-trace-of-a-square-matrix)"
      ]
    },
    {
      "cell_type": "code",
      "metadata": {
        "id": "HcaZyk2Vbz8w",
        "colab_type": "code",
        "colab": {
          "base_uri": "https://localhost:8080/",
          "height": 34
        },
        "outputId": "73c5067a-fb4f-4aa4-b1ab-5e70162b1666"
      },
      "source": [
        "# Solution\n",
        "#Use trace:\n",
        "\n",
        "# Load library\n",
        "import numpy as np\n",
        "\n",
        "# Create matrix\n",
        "matrix = np.array([[1, 2, 3],\n",
        "[2, 4, 6],\n",
        "[3, 8, 9]])\n",
        "\n",
        "# Return trace\n",
        "matrix.trace()"
      ],
      "execution_count": 43,
      "outputs": [
        {
          "output_type": "execute_result",
          "data": {
            "text/plain": [
              "14"
            ]
          },
          "metadata": {
            "tags": []
          },
          "execution_count": 43
        }
      ]
    },
    {
      "cell_type": "markdown",
      "metadata": {
        "id": "Hsk-EXXCcQxf",
        "colab_type": "text"
      },
      "source": [
        "# Finding Eigenvalues and Eigenvectors\n",
        "## Problem\n",
        "*  You need to find the eigenvalues and eigenvectors of a square matrix.\n",
        "*  [Eigenvectors and Eigenvalues Explained Visually, Setosa.io](https://https://setosa.io/ev/eigenvectors-and-eigenvalues/)  \n",
        "*  [Eigenvectors and eigenvalues | Essence of linear algebra, Chapter 10,\n",
        "3Blue1Brown](https://https://www.youtube.com/watch?v=PFDu9oVAE-g) "
      ]
    },
    {
      "cell_type": "code",
      "metadata": {
        "id": "ORhkhB-9cK9V",
        "colab_type": "code",
        "colab": {
          "base_uri": "https://localhost:8080/",
          "height": 84
        },
        "outputId": "a6aacd95-727d-4da5-8159-cf3d2552e5b1"
      },
      "source": [
        "# Solution\n",
        "# Use NumPy’s linalg.eig:\n",
        "\n",
        "# Load library\n",
        "import numpy as np\n",
        "\n",
        "# Create matrix\n",
        "matrix = np.array([[1, -1, 3],\n",
        "[1, 1, 6],\n",
        "[3, 8, 9]])\n",
        "\n",
        "# Calculate eigenvalues and eigenvectors\n",
        "eigenvalues, eigenvectors = np.linalg.eig(matrix)\n",
        "\n",
        "# View eigenvalues\n",
        "print(eigenvalues)\n",
        "#array([ 13.55075847, 0.74003145, -3.29078992])\n",
        "\n",
        "# View eigenvectors\n",
        "print(eigenvectors)"
      ],
      "execution_count": 45,
      "outputs": [
        {
          "output_type": "stream",
          "text": [
            "[13.55075847  0.74003145 -3.29078992]\n",
            "[[-0.17622017 -0.96677403 -0.53373322]\n",
            " [-0.435951    0.2053623  -0.64324848]\n",
            " [-0.88254925  0.15223105  0.54896288]]\n"
          ],
          "name": "stdout"
        }
      ]
    },
    {
      "cell_type": "markdown",
      "metadata": {
        "id": "tUeziUFRctl4",
        "colab_type": "text"
      },
      "source": [
        "# Calculating Dot Products\n",
        "## Problem\n",
        "*  You need to calculate the dot product of two vectors."
      ]
    },
    {
      "cell_type": "code",
      "metadata": {
        "id": "mCEapGmQcm4W",
        "colab_type": "code",
        "colab": {
          "base_uri": "https://localhost:8080/",
          "height": 34
        },
        "outputId": "2bf5b5d7-b8a0-421c-9f9b-30fe8888c22d"
      },
      "source": [
        "# Solution\n",
        "# Use NumPy’s dot:\n",
        "\n",
        "# Load library\n",
        "import numpy as np\n",
        "\n",
        "# Create two vectors\n",
        "vector_a = np.array([1,2,3])\n",
        "vector_b = np.array([4,5,6])\n",
        "\n",
        "# Calculate dot product\n",
        "np.dot(vector_a, vector_b)"
      ],
      "execution_count": 46,
      "outputs": [
        {
          "output_type": "execute_result",
          "data": {
            "text/plain": [
              "32"
            ]
          },
          "metadata": {
            "tags": []
          },
          "execution_count": 46
        }
      ]
    },
    {
      "cell_type": "markdown",
      "metadata": {
        "id": "UXP7XX2Kc_MB",
        "colab_type": "text"
      },
      "source": [
        "# Adding and Subtracting Matrices\n",
        "## Problem\n",
        "*  You want to add or subtract two matrices.\n",
        "*  [Vector dot product and vector length, Khan Academy](https://www.khanacademy.org/math/linear-algebra/vectors-and-spaces/dot-cross-products/v/vector-dot-product-and-vector-length)\n",
        "*  [Dot Product, Paul’s Online Math Notes](https://https://tutorial.math.lamar.edu/Classes/CalcII/DotProduct.aspx)"
      ]
    },
    {
      "cell_type": "code",
      "metadata": {
        "id": "MS5xZf8Gc4qJ",
        "colab_type": "code",
        "colab": {
          "base_uri": "https://localhost:8080/",
          "height": 67
        },
        "outputId": "d78eb68d-675e-4a51-9bd2-ce1612c6062b"
      },
      "source": [
        "# Solution\n",
        "# Use NumPy’s add and subtract:\n",
        "\n",
        "# Load library\n",
        "import numpy as np\n",
        "\n",
        "# Create matrix\n",
        "matrix_a = np.array([[1, 1, 1],\n",
        "[1, 1, 1],\n",
        "[1, 1, 2]])\n",
        "\n",
        "# Create matrix\n",
        "matrix_b = np.array([[1, 3, 1],\n",
        "[1, 3, 1],\n",
        "[1, 3, 8]])\n",
        "\n",
        "# Add two matrices\n",
        "np.add(matrix_a, matrix_b)\n",
        "# array([[ 2, 4, 2],\n",
        "# [ 2, 4, 2],\n",
        "# [ 2, 4, 10]])\n",
        "\n",
        "# Subtract two matrices\n",
        "np.subtract(matrix_a, matrix_b)"
      ],
      "execution_count": 48,
      "outputs": [
        {
          "output_type": "execute_result",
          "data": {
            "text/plain": [
              "array([[ 0, -2,  0],\n",
              "       [ 0, -2,  0],\n",
              "       [ 0, -2, -6]])"
            ]
          },
          "metadata": {
            "tags": []
          },
          "execution_count": 48
        }
      ]
    },
    {
      "cell_type": "markdown",
      "metadata": {
        "id": "fK66MHGLdaJX",
        "colab_type": "text"
      },
      "source": [
        "# Multiplying Matrices\n",
        "## Problem\n",
        "*  You want to multiply two matrices.\n",
        "*  [Array vs. Matrix Operations, MathWorks](https://https://www.mathworks.com/help/matlab/matlab_prog/array-vs-matrix-operations.html?requestedDomain=true)"
      ]
    },
    {
      "cell_type": "code",
      "metadata": {
        "id": "w2g3msB1dOEC",
        "colab_type": "code",
        "colab": {
          "base_uri": "https://localhost:8080/",
          "height": 84
        },
        "outputId": "56af0a58-d7cf-44ca-965d-045a4c0fd664"
      },
      "source": [
        "# Solution\n",
        "# Use NumPy’s dot:\n",
        "\n",
        "# Load library\n",
        "import numpy as np\n",
        "\n",
        "# Create matrix\n",
        "matrix_a = np.array([[1, 1],\n",
        "[1, 2]])\n",
        "\n",
        "# Create matrix\n",
        "matrix_b = np.array([[1, 3],\n",
        "[1, 2]])\n",
        "\n",
        "# Multiply two matrices\n",
        "print(np.dot(matrix_a, matrix_b))\n",
        "\n",
        "# Multiply two matrices\n",
        "print(matrix_a @ matrix_b)"
      ],
      "execution_count": 50,
      "outputs": [
        {
          "output_type": "stream",
          "text": [
            "[[2 5]\n",
            " [3 7]]\n",
            "[[2 5]\n",
            " [3 7]]\n"
          ],
          "name": "stdout"
        }
      ]
    },
    {
      "cell_type": "markdown",
      "metadata": {
        "id": "ZyI-Zvbdd1VR",
        "colab_type": "text"
      },
      "source": [
        "# Inverting a Matrix\n",
        "## Problem\n",
        "*  You want to calculate the inverse of a square matrix.\n",
        "*  [Inverse of a Matrix](http://www.mathwords.com/i/inverse_of_a_matrix.htm)"
      ]
    },
    {
      "cell_type": "code",
      "metadata": {
        "id": "68NEh7sddoYx",
        "colab_type": "code",
        "colab": {
          "base_uri": "https://localhost:8080/",
          "height": 50
        },
        "outputId": "3225a183-909a-4958-9297-1a4cccb7a992"
      },
      "source": [
        "#Solution\n",
        "#Use NumPy’s linear algebra inv method:\n",
        "\n",
        "# Load library\n",
        "import numpy as np\n",
        "\n",
        "# Create matrix\n",
        "matrix = np.array([[1, 4],\n",
        "[2, 5]])\n",
        "\n",
        "# Calculate inverse of matrix\n",
        "print(np.linalg.inv(matrix))"
      ],
      "execution_count": 51,
      "outputs": [
        {
          "output_type": "stream",
          "text": [
            "[[-1.66666667  1.33333333]\n",
            " [ 0.66666667 -0.33333333]]\n"
          ],
          "name": "stdout"
        }
      ]
    },
    {
      "cell_type": "markdown",
      "metadata": {
        "id": "KrPL9W6PeNRt",
        "colab_type": "text"
      },
      "source": [
        "# Generating Random Values\n",
        "## Problem\n",
        "*  You want to generate pseudorandom values."
      ]
    },
    {
      "cell_type": "code",
      "metadata": {
        "id": "sohkkTECeEQx",
        "colab_type": "code",
        "colab": {
          "base_uri": "https://localhost:8080/",
          "height": 118
        },
        "outputId": "44b6ac9d-4f84-44f4-ff3c-78e23fceb15f"
      },
      "source": [
        "# Solution\n",
        "#Use NumPy’s random:\n",
        "\n",
        "# Load library\n",
        "import numpy as np\n",
        "\n",
        "# Set seed\n",
        "print(np.random.seed(0))\n",
        "\n",
        "# Generate three random floats between 0.0 and 1.0\n",
        "print(np.random.random(3))\n",
        "\n",
        "# Generate three random integers between 1 and 10\n",
        "print(np.random.randint(0, 11, 3))\n",
        "\n",
        "# Draw three numbers from a normal distribution with mean 0.0\n",
        "# and standard deviation of 1.0\n",
        "print(np.random.normal(0.0, 1.0, 3))\n",
        "\n",
        "#array([-1.42232584, 1.52006949, -0.29139398])\n",
        "\n",
        "# Draw three numbers from a logistic distribution with mean 0.0 and scale of 1.0\n",
        "print(np.random.logistic(0.0, 1.0, 3))\n",
        "\n",
        "#array([-0.98118713, -0.08939902, 1.46416405])\n",
        "\n",
        "# Draw three numbers greater than or equal to 1.0 and less than 2.0\n",
        "print(np.random.uniform(1.0, 2.0, 3))\n",
        "\n",
        "#array([ 1.47997717, 1.3927848 , 1.83607876])"
      ],
      "execution_count": 56,
      "outputs": [
        {
          "output_type": "stream",
          "text": [
            "None\n",
            "[0.5488135  0.71518937 0.60276338]\n",
            "[3 7 9]\n",
            "[-1.42232584  1.52006949 -0.29139398]\n",
            "[-0.98118713 -0.08939902  1.46416405]\n",
            "[1.47997717 1.3927848  1.83607876]\n"
          ],
          "name": "stdout"
        }
      ]
    },
    {
      "cell_type": "code",
      "metadata": {
        "id": "_bXeOReif4n9",
        "colab_type": "code",
        "colab": {}
      },
      "source": [
        ""
      ],
      "execution_count": null,
      "outputs": []
    }
  ]
}